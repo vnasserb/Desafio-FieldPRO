{
  "nbformat": 4,
  "nbformat_minor": 0,
  "metadata": {
    "colab": {
      "provenance": [],
      "mount_file_id": "1YPInOZkD1wgAX1gQNEUXmxFDoXXSnhd7",
      "authorship_tag": "ABX9TyOoEvzrulAUZ7U/rsUatlfl",
      "include_colab_link": true
    },
    "kernelspec": {
      "name": "python3",
      "display_name": "Python 3"
    },
    "language_info": {
      "name": "python"
    }
  },
  "cells": [
    {
      "cell_type": "markdown",
      "metadata": {
        "id": "view-in-github",
        "colab_type": "text"
      },
      "source": [
        "<a href=\"https://colab.research.google.com/github/vnasserb/Desafio-FieldPRO/blob/main/Desafio_FieldPRO.ipynb\" target=\"_parent\"><img src=\"https://colab.research.google.com/assets/colab-badge.svg\" alt=\"Open In Colab\"/></a>"
      ]
    },
    {
      "cell_type": "markdown",
      "source": [
        "# **Importação de Bibliotecas**"
      ],
      "metadata": {
        "id": "JfD3RJPAEcQX"
      }
    },
    {
      "cell_type": "code",
      "source": [
        "!pip install pyod"
      ],
      "metadata": {
        "id": "pgNQL-PpUKWN"
      },
      "execution_count": null,
      "outputs": []
    },
    {
      "cell_type": "code",
      "execution_count": 30,
      "metadata": {
        "id": "qbHxM4mO8ID3"
      },
      "outputs": [],
      "source": [
        "import numpy as np\n",
        "import pandas as pd\n",
        "import matplotlib.pyplot as plt\n",
        "import pickle\n",
        "from datetime import datetime\n",
        "from sklearn.preprocessing import StandardScaler\n",
        "from sklearn.linear_model import LinearRegression\n",
        "from sklearn.model_selection import train_test_split\n",
        "import matplotlib.pyplot as plt\n",
        "from pyod.models.knn import KNN\n",
        "from math import floor"
      ]
    },
    {
      "cell_type": "markdown",
      "source": [
        "# **Carregamento dos dados**"
      ],
      "metadata": {
        "id": "eAxlIwmWEiZv"
      }
    },
    {
      "cell_type": "markdown",
      "source": [
        "## **Estação Convencional**"
      ],
      "metadata": {
        "id": "Gl1uDaPyhK17"
      }
    },
    {
      "cell_type": "code",
      "source": [
        "dfEstacaoConvencional = pd.read_csv(\"Estacao_Convencional.csv\").iloc[:,1:]\n",
        "dfSensor = pd.read_csv(\"Sensor_FieldPRO.csv\").iloc[:,1:]"
      ],
      "metadata": {
        "id": "bm4YV18U8cz4"
      },
      "execution_count": 31,
      "outputs": []
    },
    {
      "cell_type": "code",
      "source": [
        "dfEstacaoConvencional.rename(columns = {'data': 'Data', 'Hora (Brasília)': 'Hora'}, inplace = True)"
      ],
      "metadata": {
        "id": "g2huutbw_QWk"
      },
      "execution_count": 32,
      "outputs": []
    },
    {
      "cell_type": "markdown",
      "source": [
        "## **Dados do sensor**"
      ],
      "metadata": {
        "id": "dN82sgfchQz6"
      }
    },
    {
      "cell_type": "code",
      "source": [
        "def extraiData(colunaData):\n",
        "  data = colunaData.split(\"T\")[0].split(\"-\")\n",
        "  dia, mes, ano = data[2], data[1], data[0]\n",
        "\n",
        "  return ano + \"-\" + mes + \"-\" + dia\n",
        "\n",
        "def extraiHora(colunaData):\n",
        "  horario = colunaData.split(\"T\")[1][:-1]\n",
        "  return horario\n",
        "\n",
        "funcaoData = np.vectorize(extraiData)\n",
        "funcaoHora = np.vectorize(extraiHora)\n",
        "\n",
        "dfSensor['Data'] = funcaoData(dfSensor['Datetime – utc'].values)\n",
        "dfSensor['Hora'] = funcaoHora(dfSensor['Datetime – utc'].values)"
      ],
      "metadata": {
        "id": "6kT__tUk81h5"
      },
      "execution_count": 33,
      "outputs": []
    },
    {
      "cell_type": "markdown",
      "source": [
        "## **União das bases de dados**"
      ],
      "metadata": {
        "id": "XfGIbsKUhXh2"
      }
    },
    {
      "cell_type": "code",
      "source": [
        "df = dfSensor.merge(dfEstacaoConvencional, how = 'inner', on = ['Data', 'Hora'])\n",
        "df.drop(['Datetime – utc', 'Data', 'Hora'], inplace = True, axis = 1)\n",
        "\n",
        "X = df.iloc[:, 0:-1]\n",
        "Y = df.iloc[:, -1]"
      ],
      "metadata": {
        "id": "4oyRf_T_9qWi"
      },
      "execution_count": 34,
      "outputs": []
    },
    {
      "cell_type": "markdown",
      "source": [
        "# **Tratamento de valores nulos**"
      ],
      "metadata": {
        "id": "KSHN2ShIheA8"
      }
    },
    {
      "cell_type": "code",
      "source": [
        "def tratarNan(df):\n",
        "  dfNovo = df.copy()\n",
        "  colunas = df.isnull().sum().index\n",
        "  quantidadesNan = df.isnull().sum().values\n",
        "  for col in range(len(colunas)):\n",
        "    if quantidadesNan[col] == 0:\n",
        "      continue\n",
        "    else:\n",
        "      colunaEscolhida = df.iloc[:, col].values\n",
        "      for elemento in range(len(colunaEscolhida)):\n",
        "        if not np.isnan(colunaEscolhida[elemento]):\n",
        "          continue\n",
        "        if elemento == 0:\n",
        "          colunaEscolhida[elemento] = colunaEscolhida[elemento + 1]\n",
        "        elif elemento == len(colunaEscolhida) - 1:\n",
        "          colunaEscolhida[elemento] = colunaEscolhida[elemento - 1]\n",
        "        else:\n",
        "          colunaEscolhida[elemento] = 0.5 * (colunaEscolhida[elemento - 1] + colunaEscolhida[elemento + 1])\n",
        "\n",
        "    dfNovo[colunas[col]] = colunaEscolhida\n",
        "\n",
        "  return dfNovo"
      ],
      "metadata": {
        "id": "vqM6hhT-hm56"
      },
      "execution_count": 35,
      "outputs": []
    },
    {
      "cell_type": "code",
      "source": [
        "X = tratarNan(X)"
      ],
      "metadata": {
        "id": "EXwthY9lAvgI"
      },
      "execution_count": 36,
      "outputs": []
    },
    {
      "cell_type": "markdown",
      "source": [
        "# **Padronização dos dados**"
      ],
      "metadata": {
        "id": "0V5HMwRf0Azp"
      }
    },
    {
      "cell_type": "code",
      "source": [
        "ss = StandardScaler()\n",
        "X_Padronizado = ss.fit_transform(X)"
      ],
      "metadata": {
        "id": "63NCcd-40EPc"
      },
      "execution_count": 37,
      "outputs": []
    },
    {
      "cell_type": "markdown",
      "source": [
        "# **Detecção de Outliers**"
      ],
      "metadata": {
        "id": "IwcX_LpEhyaH"
      }
    },
    {
      "cell_type": "code",
      "source": [
        "detectorOutliers = KNN()\n",
        "detectorOutliers.fit(X_Padronizado)"
      ],
      "metadata": {
        "colab": {
          "base_uri": "https://localhost:8080/"
        },
        "id": "NjHbhSAdUdGE",
        "outputId": "c26da81c-7c5d-4619-85f5-64d482dc3364"
      },
      "execution_count": 38,
      "outputs": [
        {
          "output_type": "execute_result",
          "data": {
            "text/plain": [
              "KNN(algorithm='auto', contamination=0.1, leaf_size=30, method='largest',\n",
              "  metric='minkowski', metric_params=None, n_jobs=1, n_neighbors=5, p=2,\n",
              "  radius=1.0)"
            ]
          },
          "metadata": {},
          "execution_count": 38
        }
      ]
    },
    {
      "cell_type": "code",
      "source": [
        "outliers = detectorOutliers.labels_"
      ],
      "metadata": {
        "id": "WcvUzoM2Vdps"
      },
      "execution_count": 39,
      "outputs": []
    },
    {
      "cell_type": "code",
      "source": [
        "xSemOut = []\n",
        "ySemOut = []\n",
        "\n",
        "for amostra in range(len(X_Padronizado)):\n",
        "  if outliers[amostra] == 0:\n",
        "    xSemOut.append(X_Padronizado[amostra])\n",
        "    ySemOut.append(Y[amostra])\n",
        "  else:\n",
        "    continue"
      ],
      "metadata": {
        "id": "9Sgmkld-aIoX"
      },
      "execution_count": 40,
      "outputs": []
    },
    {
      "cell_type": "markdown",
      "source": [
        "# **Divisão em treino e teste**"
      ],
      "metadata": {
        "id": "4kUBrUEUh7Z7"
      }
    },
    {
      "cell_type": "code",
      "source": [
        "xTreino, xTeste, yTreino, yTeste = train_test_split(xSemOut, ySemOut, test_size=0.3)"
      ],
      "metadata": {
        "id": "inn2zefDVKW0"
      },
      "execution_count": 41,
      "outputs": []
    },
    {
      "cell_type": "markdown",
      "source": [
        "# **Criação do modelo de regressão**"
      ],
      "metadata": {
        "id": "63xA7WCvh_-s"
      }
    },
    {
      "cell_type": "code",
      "source": [
        "regressor = LinearRegression()\n",
        "regressor.fit(xTreino, yTreino)"
      ],
      "metadata": {
        "colab": {
          "base_uri": "https://localhost:8080/",
          "height": 75
        },
        "id": "9TiscrTZUupB",
        "outputId": "b703ab77-54ab-48ca-db85-34ad3cd2effa"
      },
      "execution_count": 42,
      "outputs": [
        {
          "output_type": "execute_result",
          "data": {
            "text/plain": [
              "LinearRegression()"
            ],
            "text/html": [
              "<style>#sk-container-id-1 {color: black;background-color: white;}#sk-container-id-1 pre{padding: 0;}#sk-container-id-1 div.sk-toggleable {background-color: white;}#sk-container-id-1 label.sk-toggleable__label {cursor: pointer;display: block;width: 100%;margin-bottom: 0;padding: 0.3em;box-sizing: border-box;text-align: center;}#sk-container-id-1 label.sk-toggleable__label-arrow:before {content: \"▸\";float: left;margin-right: 0.25em;color: #696969;}#sk-container-id-1 label.sk-toggleable__label-arrow:hover:before {color: black;}#sk-container-id-1 div.sk-estimator:hover label.sk-toggleable__label-arrow:before {color: black;}#sk-container-id-1 div.sk-toggleable__content {max-height: 0;max-width: 0;overflow: hidden;text-align: left;background-color: #f0f8ff;}#sk-container-id-1 div.sk-toggleable__content pre {margin: 0.2em;color: black;border-radius: 0.25em;background-color: #f0f8ff;}#sk-container-id-1 input.sk-toggleable__control:checked~div.sk-toggleable__content {max-height: 200px;max-width: 100%;overflow: auto;}#sk-container-id-1 input.sk-toggleable__control:checked~label.sk-toggleable__label-arrow:before {content: \"▾\";}#sk-container-id-1 div.sk-estimator input.sk-toggleable__control:checked~label.sk-toggleable__label {background-color: #d4ebff;}#sk-container-id-1 div.sk-label input.sk-toggleable__control:checked~label.sk-toggleable__label {background-color: #d4ebff;}#sk-container-id-1 input.sk-hidden--visually {border: 0;clip: rect(1px 1px 1px 1px);clip: rect(1px, 1px, 1px, 1px);height: 1px;margin: -1px;overflow: hidden;padding: 0;position: absolute;width: 1px;}#sk-container-id-1 div.sk-estimator {font-family: monospace;background-color: #f0f8ff;border: 1px dotted black;border-radius: 0.25em;box-sizing: border-box;margin-bottom: 0.5em;}#sk-container-id-1 div.sk-estimator:hover {background-color: #d4ebff;}#sk-container-id-1 div.sk-parallel-item::after {content: \"\";width: 100%;border-bottom: 1px solid gray;flex-grow: 1;}#sk-container-id-1 div.sk-label:hover label.sk-toggleable__label {background-color: #d4ebff;}#sk-container-id-1 div.sk-serial::before {content: \"\";position: absolute;border-left: 1px solid gray;box-sizing: border-box;top: 0;bottom: 0;left: 50%;z-index: 0;}#sk-container-id-1 div.sk-serial {display: flex;flex-direction: column;align-items: center;background-color: white;padding-right: 0.2em;padding-left: 0.2em;position: relative;}#sk-container-id-1 div.sk-item {position: relative;z-index: 1;}#sk-container-id-1 div.sk-parallel {display: flex;align-items: stretch;justify-content: center;background-color: white;position: relative;}#sk-container-id-1 div.sk-item::before, #sk-container-id-1 div.sk-parallel-item::before {content: \"\";position: absolute;border-left: 1px solid gray;box-sizing: border-box;top: 0;bottom: 0;left: 50%;z-index: -1;}#sk-container-id-1 div.sk-parallel-item {display: flex;flex-direction: column;z-index: 1;position: relative;background-color: white;}#sk-container-id-1 div.sk-parallel-item:first-child::after {align-self: flex-end;width: 50%;}#sk-container-id-1 div.sk-parallel-item:last-child::after {align-self: flex-start;width: 50%;}#sk-container-id-1 div.sk-parallel-item:only-child::after {width: 0;}#sk-container-id-1 div.sk-dashed-wrapped {border: 1px dashed gray;margin: 0 0.4em 0.5em 0.4em;box-sizing: border-box;padding-bottom: 0.4em;background-color: white;}#sk-container-id-1 div.sk-label label {font-family: monospace;font-weight: bold;display: inline-block;line-height: 1.2em;}#sk-container-id-1 div.sk-label-container {text-align: center;}#sk-container-id-1 div.sk-container {/* jupyter's `normalize.less` sets `[hidden] { display: none; }` but bootstrap.min.css set `[hidden] { display: none !important; }` so we also need the `!important` here to be able to override the default hidden behavior on the sphinx rendered scikit-learn.org. See: https://github.com/scikit-learn/scikit-learn/issues/21755 */display: inline-block !important;position: relative;}#sk-container-id-1 div.sk-text-repr-fallback {display: none;}</style><div id=\"sk-container-id-1\" class=\"sk-top-container\"><div class=\"sk-text-repr-fallback\"><pre>LinearRegression()</pre><b>In a Jupyter environment, please rerun this cell to show the HTML representation or trust the notebook. <br />On GitHub, the HTML representation is unable to render, please try loading this page with nbviewer.org.</b></div><div class=\"sk-container\" hidden><div class=\"sk-item\"><div class=\"sk-estimator sk-toggleable\"><input class=\"sk-toggleable__control sk-hidden--visually\" id=\"sk-estimator-id-1\" type=\"checkbox\" checked><label for=\"sk-estimator-id-1\" class=\"sk-toggleable__label sk-toggleable__label-arrow\">LinearRegression</label><div class=\"sk-toggleable__content\"><pre>LinearRegression()</pre></div></div></div></div></div>"
            ]
          },
          "metadata": {},
          "execution_count": 42
        }
      ]
    },
    {
      "cell_type": "markdown",
      "source": [
        "# **Comparação entre os valores reais e os previstos pelo modelo**"
      ],
      "metadata": {
        "id": "4lys8c4FihO2"
      }
    },
    {
      "cell_type": "code",
      "source": [
        "def ajeitaValores(valores):\n",
        "  indicesPositivos = np.where(valores > 0)[0]\n",
        "  valoresFinais = []\n",
        "\n",
        "  for valor in range(len(valores)):\n",
        "    if valor in indicesPositivos:\n",
        "      valoresFinais.append(valores[valor])\n",
        "    else:\n",
        "      valoresFinais.append(0)\n",
        "  return valoresFinais\n",
        "\n",
        "indices = np.arange(1,len(yTeste) + 1, 1)\n",
        "previsoes = ajeitaValores(regressor.predict(xTeste))\n",
        "plt.figure(figsize = (10,6))\n",
        "plt.plot(indices, yTeste, color = 'blue')\n",
        "plt.plot(indices, previsoes, color = 'red')"
      ],
      "metadata": {
        "colab": {
          "base_uri": "https://localhost:8080/",
          "height": 539
        },
        "id": "Wpsk8MuKb09T",
        "outputId": "b9f81a0a-0be3-4969-875a-937859e5eb4c"
      },
      "execution_count": 43,
      "outputs": [
        {
          "output_type": "execute_result",
          "data": {
            "text/plain": [
              "[<matplotlib.lines.Line2D at 0x7be3aaa50dc0>]"
            ]
          },
          "metadata": {},
          "execution_count": 43
        },
        {
          "output_type": "display_data",
          "data": {
            "text/plain": [
              "<Figure size 1000x600 with 1 Axes>"
            ],
            "image/png": "[encoded data removed]"
          },
          "metadata": {}
        }
      ]
    }
  ]
}